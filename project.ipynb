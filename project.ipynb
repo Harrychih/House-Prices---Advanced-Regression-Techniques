{
 "cells": [
  {
   "cell_type": "markdown",
   "id": "78618626-4c8e-4ad3-9590-e4508cedd618",
   "metadata": {},
   "source": [
    "# Data Preprocessing"
   ]
  },
  {
   "cell_type": "code",
   "execution_count": 24,
   "id": "d3ce2dee-d4f6-41ee-a984-31e4e33e35eb",
   "metadata": {},
   "outputs": [],
   "source": [
    "import pandas as pd\n",
    "import numpy as np\n",
    "import matplotlib.pyplot as plt"
   ]
  },
  {
   "cell_type": "code",
   "execution_count": 25,
   "id": "afc2d28e-7cac-4cf7-b58a-66e91f8d4ab7",
   "metadata": {},
   "outputs": [],
   "source": [
    "train = pd.read_csv('train.csv')"
   ]
  },
  {
   "cell_type": "code",
   "execution_count": 26,
   "id": "8c673d8e-268b-498d-b43f-62975e5bfc95",
   "metadata": {},
   "outputs": [],
   "source": [
    "from sklearn.feature_selection import SelectKBest, chi2\n",
    "train = train.drop('Id', axis = 1)\n",
    "X = train.drop('SalePrice', axis = 1) \n",
    "Y = train['SalePrice']\n",
    "XArray = X.values\n",
    "YArray = Y.values"
   ]
  },
  {
   "cell_type": "code",
   "execution_count": 32,
   "id": "51bfd811-f6c0-4316-8838-6310a08d9397",
   "metadata": {},
   "outputs": [
    {
     "data": {
      "text/plain": [
       "(1460, 79)"
      ]
     },
     "execution_count": 32,
     "metadata": {},
     "output_type": "execute_result"
    }
   ],
   "source": [
    "XArray.shape"
   ]
  },
  {
   "cell_type": "code",
   "execution_count": null,
   "id": "c00f3b2d-78fb-4aa4-a26e-4edd4548f5fa",
   "metadata": {},
   "outputs": [],
   "source": [
    "from sklearn.feature_selection import RFE\n",
    "from sklearn.linear_model import LogisticRegression\n",
    "model = LogisticRegression()\n",
    "rfe = RFE(model,40)\n",
    "fit = rfe.fit(X,Y)\n",
    "print('um of features:, fit.n_features)"
   ]
  }
 ],
 "metadata": {
  "kernelspec": {
   "display_name": "Python 3",
   "language": "python",
   "name": "python3"
  },
  "language_info": {
   "codemirror_mode": {
    "name": "ipython",
    "version": 3
   },
   "file_extension": ".py",
   "mimetype": "text/x-python",
   "name": "python",
   "nbconvert_exporter": "python",
   "pygments_lexer": "ipython3",
   "version": "3.8.10"
  }
 },
 "nbformat": 4,
 "nbformat_minor": 5
}
